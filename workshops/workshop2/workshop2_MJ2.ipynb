{
 "cells": [
  {
   "cell_type": "markdown",
   "metadata": {},
   "source": [
    "# Exercise 1: Data cleaning\n",
    "\n",
    "Before doing actual data analysis, we usually first need to clean the data. \n",
    "This might involve steps such as dealing with missing values and encoding categorical variables as integers.\n",
    "In this exercise, you will perform such steps based on the Titanic passenger data.\n",
    "\n",
    "1. Load the Titanic data set in `titanic.csv` located in the `data/` folder.\n",
    "2. Report the number of observations with missing `Age`, for example using [`isna()`](https://pandas.pydata.org/docs/reference/api/pandas.isna.html).\n",
    "3. Compute the average age in the data set. Use the following approaches and compare your results:\n",
    "    1.  Use pandas's [`mean()`](https://pandas.pydata.org/docs/reference/api/pandas.DataFrame.mean.html) method.\n",
    "    2.  Convert the `Age` column to a NumPy array using [`to_numpy()`](https://pandas.pydata.org/docs/reference/api/pandas.DataFrame.to_numpy.html). Experiment with NumPy's [`np.mean()`](https://numpy.org/doc/2.0/reference/generated/numpy.mean.html) and [`np.nanmean()`](https://numpy.org/doc/2.0/reference/generated/numpy.nanmean.html) to see if you obtain the same results.\n",
    "4. Replace the all missing ages with the mean age you computed above, rounded to the nearest integer.\n",
    "   Note that in \"real\" applications, replacing missing values with sample means is usually not a good idea.\n",
    "5. Convert this updated `Age` column to integer type using [`astype()`](https://pandas.pydata.org/docs/reference/api/pandas.DataFrame.astype.html).\n",
    "6. Generate a new column `Female` which takes on the value one if `Sex` is equal to `\"female\"` and zero otherwise. \n",
    "   This is called an _indicator_ or _dummy_ variable, and is preferrable to storing such categorical data as strings.\n",
    "   Delete the original column `Sex`.\n",
    "7. Save your cleaned data set as `titanic-clean.csv` using [`to_csv()`](https://pandas.pydata.org/docs/reference/api/pandas.DataFrame.to_csv.html) with `,` as the field separator.\n",
    "   Tell `to_csv()` to *not* write the `DataFrame` index to the CSV file as it's not needed in this example."
   ]
  },
  {
   "cell_type": "code",
   "execution_count": 44,
   "metadata": {},
   "outputs": [],
   "source": [
    "import pandas as pd\n",
    "\n",
    "DATA_PATH1 = '../../data'\n",
    "filename1 = f'{DATA_PATH1}/titanic.csv'\n",
    "\n",
    "df1 = pd.read_csv(filename1)"
   ]
  },
  {
   "cell_type": "code",
   "execution_count": 45,
   "metadata": {},
   "outputs": [
    {
     "data": {
      "text/plain": [
       "np.int64(177)"
      ]
     },
     "execution_count": 45,
     "metadata": {},
     "output_type": "execute_result"
    }
   ],
   "source": [
    "df1['Age'].isna().sum()"
   ]
  },
  {
   "cell_type": "code",
   "execution_count": 46,
   "metadata": {},
   "outputs": [],
   "source": [
    "import numpy as np\n",
    "\n",
    "age_arr = df1['Age'].to_numpy()\n",
    "avg_age = round(np.nanmean(age_arr),0)\n",
    "df1['Age'] = df1['Age'].fillna(avg_age).astype(int)\n"
   ]
  },
  {
   "cell_type": "code",
   "execution_count": 47,
   "metadata": {},
   "outputs": [],
   "source": [
    "df1['Female'] = (df1['Sex'] == 'female').astype(int)\n",
    "df1.drop(columns='Sex', inplace=True)"
   ]
  },
  {
   "cell_type": "code",
   "execution_count": 50,
   "metadata": {},
   "outputs": [],
   "source": [
    "df1.to_csv('titanic_clean_v2.csv', index=False)"
   ]
  },
  {
   "cell_type": "markdown",
   "metadata": {},
   "source": [
    "***\n",
    "# Exercise 2: Selecting subsets of data\n",
    "\n",
    "In this exercise, you are asked to select subsets of macroeconomic data for the United States based on some criteria.\n",
    "\n",
    "1.  Load the annual data from FRED which are located in `FRED_annual.xlsx` \n",
    "    in the `data/FRED` folder.\n",
    "\n",
    "2.  Print the list of columns and the number of non-missing observations.\n",
    "\n",
    "3.  Since we are dealing with time series data, set the column `Year` as the DataFrame index.\n",
    "\n",
    "4.  Print all observations for the 1960s decade using at least two different methods.\n",
    "\n",
    "5.  Using the data in the column `GDP`, compute the annual GDP growth in percent and store it in the column `GDP_growth`. Select the years in which\n",
    "\n",
    "    1.  GDP growth was above 5%.\n",
    "    2.  GDP growth was negative, but inflation as still above 5% (such episodes are called \"stagflation\" since usually negative GDP growth is associated with low inflation).\n",
    "        \n",
    "        Use at least two methods to select such years.\n",
    "\n",
    "    *Hint:* You can compute changes relative to the previous observation using the \n",
    "    [`pct_change()`](https://pandas.pydata.org/docs/reference/api/pandas.DataFrame.pct_change.html) method.\n"
   ]
  },
  {
   "cell_type": "code",
   "execution_count": 20,
   "metadata": {},
   "outputs": [],
   "source": [
    "import pandas as pd\n",
    "import numpy as np\n",
    "\n",
    "DATA_PATH = '../..'\n",
    "filename2 = f'{DATA_PATH}/data/FRED/FRED_annual.xlsx'\n",
    "df = pd.read_excel(filename2)\n"
   ]
  },
  {
   "cell_type": "code",
   "execution_count": 21,
   "metadata": {},
   "outputs": [
    {
     "name": "stdout",
     "output_type": "stream",
     "text": [
      "['Year', 'GDP', 'CPI', 'UNRATE', 'FEDFUNDS', 'INFLATION']\n",
      "Year         0\n",
      "GDP          0\n",
      "CPI          0\n",
      "UNRATE       0\n",
      "FEDFUNDS     0\n",
      "INFLATION    1\n",
      "dtype: int64\n"
     ]
    }
   ],
   "source": [
    "print(list(df.columns))\n",
    "print(df.isna().sum())\n"
   ]
  },
  {
   "cell_type": "code",
   "execution_count": 22,
   "metadata": {},
   "outputs": [],
   "source": [
    "df.set_index(['Year'], inplace = True)"
   ]
  },
  {
   "cell_type": "code",
   "execution_count": 23,
   "metadata": {},
   "outputs": [
    {
     "data": {
      "text/html": [
       "<div>\n",
       "<style scoped>\n",
       "    .dataframe tbody tr th:only-of-type {\n",
       "        vertical-align: middle;\n",
       "    }\n",
       "\n",
       "    .dataframe tbody tr th {\n",
       "        vertical-align: top;\n",
       "    }\n",
       "\n",
       "    .dataframe thead th {\n",
       "        text-align: right;\n",
       "    }\n",
       "</style>\n",
       "<table border=\"1\" class=\"dataframe\">\n",
       "  <thead>\n",
       "    <tr style=\"text-align: right;\">\n",
       "      <th></th>\n",
       "      <th>GDP</th>\n",
       "      <th>CPI</th>\n",
       "      <th>UNRATE</th>\n",
       "      <th>FEDFUNDS</th>\n",
       "      <th>INFLATION</th>\n",
       "    </tr>\n",
       "    <tr>\n",
       "      <th>Year</th>\n",
       "      <th></th>\n",
       "      <th></th>\n",
       "      <th></th>\n",
       "      <th></th>\n",
       "      <th></th>\n",
       "    </tr>\n",
       "  </thead>\n",
       "  <tbody>\n",
       "    <tr>\n",
       "      <th>1960</th>\n",
       "      <td>3500.3</td>\n",
       "      <td>29.6</td>\n",
       "      <td>5.5</td>\n",
       "      <td>3.2</td>\n",
       "      <td>1.369863</td>\n",
       "    </tr>\n",
       "    <tr>\n",
       "      <th>1961</th>\n",
       "      <td>3590.1</td>\n",
       "      <td>29.9</td>\n",
       "      <td>6.7</td>\n",
       "      <td>2.0</td>\n",
       "      <td>1.013514</td>\n",
       "    </tr>\n",
       "    <tr>\n",
       "      <th>1962</th>\n",
       "      <td>3810.1</td>\n",
       "      <td>30.3</td>\n",
       "      <td>5.6</td>\n",
       "      <td>2.7</td>\n",
       "      <td>1.337793</td>\n",
       "    </tr>\n",
       "    <tr>\n",
       "      <th>1963</th>\n",
       "      <td>3976.1</td>\n",
       "      <td>30.6</td>\n",
       "      <td>5.6</td>\n",
       "      <td>3.2</td>\n",
       "      <td>0.990099</td>\n",
       "    </tr>\n",
       "    <tr>\n",
       "      <th>1964</th>\n",
       "      <td>4205.3</td>\n",
       "      <td>31.0</td>\n",
       "      <td>5.2</td>\n",
       "      <td>3.5</td>\n",
       "      <td>1.307190</td>\n",
       "    </tr>\n",
       "    <tr>\n",
       "      <th>1965</th>\n",
       "      <td>4478.6</td>\n",
       "      <td>31.5</td>\n",
       "      <td>4.5</td>\n",
       "      <td>4.1</td>\n",
       "      <td>1.612903</td>\n",
       "    </tr>\n",
       "    <tr>\n",
       "      <th>1966</th>\n",
       "      <td>4773.9</td>\n",
       "      <td>32.5</td>\n",
       "      <td>3.8</td>\n",
       "      <td>5.1</td>\n",
       "      <td>3.174603</td>\n",
       "    </tr>\n",
       "    <tr>\n",
       "      <th>1967</th>\n",
       "      <td>4904.9</td>\n",
       "      <td>33.4</td>\n",
       "      <td>3.8</td>\n",
       "      <td>4.2</td>\n",
       "      <td>2.769231</td>\n",
       "    </tr>\n",
       "    <tr>\n",
       "      <th>1968</th>\n",
       "      <td>5145.9</td>\n",
       "      <td>34.8</td>\n",
       "      <td>3.6</td>\n",
       "      <td>5.7</td>\n",
       "      <td>4.191617</td>\n",
       "    </tr>\n",
       "    <tr>\n",
       "      <th>1969</th>\n",
       "      <td>5306.6</td>\n",
       "      <td>36.7</td>\n",
       "      <td>3.5</td>\n",
       "      <td>8.2</td>\n",
       "      <td>5.459770</td>\n",
       "    </tr>\n",
       "  </tbody>\n",
       "</table>\n",
       "</div>"
      ],
      "text/plain": [
       "         GDP   CPI  UNRATE  FEDFUNDS  INFLATION\n",
       "Year                                           \n",
       "1960  3500.3  29.6     5.5       3.2   1.369863\n",
       "1961  3590.1  29.9     6.7       2.0   1.013514\n",
       "1962  3810.1  30.3     5.6       2.7   1.337793\n",
       "1963  3976.1  30.6     5.6       3.2   0.990099\n",
       "1964  4205.3  31.0     5.2       3.5   1.307190\n",
       "1965  4478.6  31.5     4.5       4.1   1.612903\n",
       "1966  4773.9  32.5     3.8       5.1   3.174603\n",
       "1967  4904.9  33.4     3.8       4.2   2.769231\n",
       "1968  5145.9  34.8     3.6       5.7   4.191617\n",
       "1969  5306.6  36.7     3.5       8.2   5.459770"
      ]
     },
     "execution_count": 23,
     "metadata": {},
     "output_type": "execute_result"
    }
   ],
   "source": [
    "df.loc['1960':'1969']"
   ]
  },
  {
   "cell_type": "code",
   "execution_count": 24,
   "metadata": {},
   "outputs": [
    {
     "data": {
      "text/html": [
       "<div>\n",
       "<style scoped>\n",
       "    .dataframe tbody tr th:only-of-type {\n",
       "        vertical-align: middle;\n",
       "    }\n",
       "\n",
       "    .dataframe tbody tr th {\n",
       "        vertical-align: top;\n",
       "    }\n",
       "\n",
       "    .dataframe thead th {\n",
       "        text-align: right;\n",
       "    }\n",
       "</style>\n",
       "<table border=\"1\" class=\"dataframe\">\n",
       "  <thead>\n",
       "    <tr style=\"text-align: right;\">\n",
       "      <th></th>\n",
       "      <th>GDP</th>\n",
       "      <th>CPI</th>\n",
       "      <th>UNRATE</th>\n",
       "      <th>FEDFUNDS</th>\n",
       "      <th>INFLATION</th>\n",
       "    </tr>\n",
       "    <tr>\n",
       "      <th>Year</th>\n",
       "      <th></th>\n",
       "      <th></th>\n",
       "      <th></th>\n",
       "      <th></th>\n",
       "      <th></th>\n",
       "    </tr>\n",
       "  </thead>\n",
       "  <tbody>\n",
       "    <tr>\n",
       "      <th>1960</th>\n",
       "      <td>3500.3</td>\n",
       "      <td>29.6</td>\n",
       "      <td>5.5</td>\n",
       "      <td>3.2</td>\n",
       "      <td>1.369863</td>\n",
       "    </tr>\n",
       "    <tr>\n",
       "      <th>1961</th>\n",
       "      <td>3590.1</td>\n",
       "      <td>29.9</td>\n",
       "      <td>6.7</td>\n",
       "      <td>2.0</td>\n",
       "      <td>1.013514</td>\n",
       "    </tr>\n",
       "    <tr>\n",
       "      <th>1962</th>\n",
       "      <td>3810.1</td>\n",
       "      <td>30.3</td>\n",
       "      <td>5.6</td>\n",
       "      <td>2.7</td>\n",
       "      <td>1.337793</td>\n",
       "    </tr>\n",
       "    <tr>\n",
       "      <th>1963</th>\n",
       "      <td>3976.1</td>\n",
       "      <td>30.6</td>\n",
       "      <td>5.6</td>\n",
       "      <td>3.2</td>\n",
       "      <td>0.990099</td>\n",
       "    </tr>\n",
       "    <tr>\n",
       "      <th>1964</th>\n",
       "      <td>4205.3</td>\n",
       "      <td>31.0</td>\n",
       "      <td>5.2</td>\n",
       "      <td>3.5</td>\n",
       "      <td>1.307190</td>\n",
       "    </tr>\n",
       "    <tr>\n",
       "      <th>1965</th>\n",
       "      <td>4478.6</td>\n",
       "      <td>31.5</td>\n",
       "      <td>4.5</td>\n",
       "      <td>4.1</td>\n",
       "      <td>1.612903</td>\n",
       "    </tr>\n",
       "    <tr>\n",
       "      <th>1966</th>\n",
       "      <td>4773.9</td>\n",
       "      <td>32.5</td>\n",
       "      <td>3.8</td>\n",
       "      <td>5.1</td>\n",
       "      <td>3.174603</td>\n",
       "    </tr>\n",
       "    <tr>\n",
       "      <th>1967</th>\n",
       "      <td>4904.9</td>\n",
       "      <td>33.4</td>\n",
       "      <td>3.8</td>\n",
       "      <td>4.2</td>\n",
       "      <td>2.769231</td>\n",
       "    </tr>\n",
       "    <tr>\n",
       "      <th>1968</th>\n",
       "      <td>5145.9</td>\n",
       "      <td>34.8</td>\n",
       "      <td>3.6</td>\n",
       "      <td>5.7</td>\n",
       "      <td>4.191617</td>\n",
       "    </tr>\n",
       "    <tr>\n",
       "      <th>1969</th>\n",
       "      <td>5306.6</td>\n",
       "      <td>36.7</td>\n",
       "      <td>3.5</td>\n",
       "      <td>8.2</td>\n",
       "      <td>5.459770</td>\n",
       "    </tr>\n",
       "  </tbody>\n",
       "</table>\n",
       "</div>"
      ],
      "text/plain": [
       "         GDP   CPI  UNRATE  FEDFUNDS  INFLATION\n",
       "Year                                           \n",
       "1960  3500.3  29.6     5.5       3.2   1.369863\n",
       "1961  3590.1  29.9     6.7       2.0   1.013514\n",
       "1962  3810.1  30.3     5.6       2.7   1.337793\n",
       "1963  3976.1  30.6     5.6       3.2   0.990099\n",
       "1964  4205.3  31.0     5.2       3.5   1.307190\n",
       "1965  4478.6  31.5     4.5       4.1   1.612903\n",
       "1966  4773.9  32.5     3.8       5.1   3.174603\n",
       "1967  4904.9  33.4     3.8       4.2   2.769231\n",
       "1968  5145.9  34.8     3.6       5.7   4.191617\n",
       "1969  5306.6  36.7     3.5       8.2   5.459770"
      ]
     },
     "execution_count": 24,
     "metadata": {},
     "output_type": "execute_result"
    }
   ],
   "source": [
    "df.iloc[6:16]"
   ]
  },
  {
   "cell_type": "code",
   "execution_count": 25,
   "metadata": {},
   "outputs": [
    {
     "name": "stdout",
     "output_type": "stream",
     "text": [
      "          GDP    CPI  UNRATE  FEDFUNDS  INFLATION  GDP_growth\n",
      "Year                                                         \n",
      "1955   3083.0   26.8     4.4       1.8  -0.371747    7.134170\n",
      "1959   3412.4   29.2     5.4       3.3   1.038062    6.931562\n",
      "1962   3810.1   30.3     5.6       2.7   1.337793    6.127963\n",
      "1964   4205.3   31.0     5.2       3.5   1.307190    5.764443\n",
      "1965   4478.6   31.5     4.5       4.1   1.612903    6.498942\n",
      "1966   4773.9   32.5     3.8       5.1   3.174603    6.593578\n",
      "1972   5780.0   41.8     5.6       4.4   3.209877    5.255490\n",
      "1973   6106.4   44.4     4.9       8.7   6.220096    5.647059\n",
      "1976   6387.4   56.9     7.7       5.0   5.762082    5.386989\n",
      "1978   7052.7   65.2     6.1       7.9   7.590759    5.535105\n",
      "1984   8195.3  103.9     7.5      10.2   4.317269    7.236042\n",
      "2021  21494.8  271.0     5.4       0.1   4.714065    6.054984\n"
     ]
    }
   ],
   "source": [
    "df['GDP_growth'] = df['GDP'].pct_change() * 100\n",
    "high_growth_b = df.query(\"GDP_growth > 5\")\n",
    "\n",
    "print(high_growth_b)"
   ]
  },
  {
   "cell_type": "code",
   "execution_count": 26,
   "metadata": {},
   "outputs": [
    {
     "name": "stdout",
     "output_type": "stream",
     "text": [
      "         GDP   CPI  UNRATE  FEDFUNDS  INFLATION  GDP_growth\n",
      "Year                                                       \n",
      "1974  6073.4  49.3     5.6      10.5  11.036036   -0.540417\n",
      "1975  6060.9  53.8     8.5       5.8   9.127789   -0.205816\n",
      "1980  7257.3  82.4     7.2      13.4  13.498623   -0.257009\n",
      "1982  7307.3  96.5     9.7      12.3   6.160616   -1.803400\n"
     ]
    }
   ],
   "source": [
    "stagflation = df.query('5 < INFLATION & GDP_growth < 0')\n",
    "print(stagflation)"
   ]
  },
  {
   "cell_type": "markdown",
   "metadata": {},
   "source": [
    "***\n",
    "# Exercise 3: Labor market statistics for the US\n",
    "\n",
    "In this exercise, you are asked to compute some descriptive statistics for the unemployment rate \n",
    "and the labor force participation (the fraction of the working-age population in the labor force, i.e., individuals who are either employed or unemployed) for the United States.\n",
    "\n",
    "1.  Load the monthly time series from FRED which are located in `FRED_monthly.csv` \n",
    "    in the `data/FRED` folder.\n",
    "\n",
    "    *Hint:* You can use `pd.read_csv(..., parse_dates=['DATE'])` to automatically\n",
    "    parse strings stored in the `DATE` column as dates.\n",
    "\n",
    "2.  Print the list of columns and the number of non-missing observations.\n",
    "\n",
    "3.  Since we are dealing with time series data, set the column `DATE` as the DataFrame index. Using the date index, select all observations from the first three months\n",
    "    of the year 2020.\n",
    "\n",
    "4.  For the columns `UNRATE` (unemployment rate) and `LFPART` (labor force participation), compute and report \n",
    "    the mean, minimum and maximum values for the whole sample. Round your results \n",
    "    to one decimal digit.\n",
    "\n",
    "    *Hint:* You can use the DataFrame methods \n",
    "    [`mean()`](https://pandas.pydata.org/docs/reference/api/pandas.DataFrame.mean.html),\n",
    "    [`min()`](https://pandas.pydata.org/docs/reference/api/pandas.DataFrame.min.html), and \n",
    "    [`max()`](https://pandas.pydata.org/docs/reference/api/pandas.DataFrame.max.html)\n",
    "    to compute the desired statistics.\n",
    "\n",
    "    *Hint:* You can use the DataFrame method\n",
    "    [`round()`](https://pandas.pydata.org/docs/reference/api/pandas.DataFrame.round.html)\n",
    "    to truncate the number of decimal digits.\n",
    "\n",
    "5.  You are interested in how the average unemployment rate evolved over the last \n",
    "    few decades. \n",
    "\n",
    "    -   Add a new column `Decade` to the DataFrame which contains the \n",
    "        starting year for each decade (e.g., this value should be 1950\n",
    "        for the years 1950-1959, and so on).\n",
    "\n",
    "        *Hint:* The decade can be computed from the column `Year` using \n",
    "        truncated integer division:\n",
    "        ```python\n",
    "        df['Year'] // 10 * 10\n",
    "        ```\n",
    "\n",
    "    -   Write a loop to compute and report the average unemployment rate (column `UNRATE`) \n",
    "        for each decade.\n",
    "\n",
    "        Include only the decades from 1950 to 2010 for which you have all\n",
    "        observations. "
   ]
  },
  {
   "cell_type": "code",
   "execution_count": null,
   "metadata": {},
   "outputs": [],
   "source": [
    "filename3 = f'{DATA_PATH}/data/FRED/FRED_monthly.CSV'\n",
    "df3 = pd.read_csv(filename3)"
   ]
  },
  {
   "cell_type": "code",
   "execution_count": 31,
   "metadata": {},
   "outputs": [
    {
     "name": "stdout",
     "output_type": "stream",
     "text": [
      "['DATE', 'Year', 'Month', 'CPI', 'UNRATE', 'FEDFUNDS', 'REALRATE', 'LFPART']\n"
     ]
    },
    {
     "data": {
      "text/plain": [
       "DATE          0\n",
       "Year          0\n",
       "Month         0\n",
       "CPI           0\n",
       "UNRATE        0\n",
       "FEDFUNDS     78\n",
       "REALRATE    408\n",
       "LFPART        0\n",
       "dtype: int64"
      ]
     },
     "execution_count": 31,
     "metadata": {},
     "output_type": "execute_result"
    }
   ],
   "source": [
    "print(list(df3.columns))\n",
    "df3.isna().sum()"
   ]
  },
  {
   "cell_type": "code",
   "execution_count": null,
   "metadata": {},
   "outputs": [],
   "source": []
  },
  {
   "cell_type": "code",
   "execution_count": null,
   "metadata": {},
   "outputs": [
    {
     "data": {
      "text/html": [
       "<div>\n",
       "<style scoped>\n",
       "    .dataframe tbody tr th:only-of-type {\n",
       "        vertical-align: middle;\n",
       "    }\n",
       "\n",
       "    .dataframe tbody tr th {\n",
       "        vertical-align: top;\n",
       "    }\n",
       "\n",
       "    .dataframe thead th {\n",
       "        text-align: right;\n",
       "    }\n",
       "</style>\n",
       "<table border=\"1\" class=\"dataframe\">\n",
       "  <thead>\n",
       "    <tr style=\"text-align: right;\">\n",
       "      <th></th>\n",
       "      <th>Year</th>\n",
       "      <th>Month</th>\n",
       "      <th>CPI</th>\n",
       "      <th>UNRATE</th>\n",
       "      <th>FEDFUNDS</th>\n",
       "      <th>REALRATE</th>\n",
       "      <th>LFPART</th>\n",
       "    </tr>\n",
       "    <tr>\n",
       "      <th>DATE</th>\n",
       "      <th></th>\n",
       "      <th></th>\n",
       "      <th></th>\n",
       "      <th></th>\n",
       "      <th></th>\n",
       "      <th></th>\n",
       "      <th></th>\n",
       "    </tr>\n",
       "  </thead>\n",
       "  <tbody>\n",
       "    <tr>\n",
       "      <th>2020-01-01</th>\n",
       "      <td>2020</td>\n",
       "      <td>1</td>\n",
       "      <td>259.1</td>\n",
       "      <td>3.6</td>\n",
       "      <td>1.6</td>\n",
       "      <td>-0.6</td>\n",
       "      <td>63.3</td>\n",
       "    </tr>\n",
       "    <tr>\n",
       "      <th>2020-02-01</th>\n",
       "      <td>2020</td>\n",
       "      <td>2</td>\n",
       "      <td>259.2</td>\n",
       "      <td>3.5</td>\n",
       "      <td>1.6</td>\n",
       "      <td>-0.5</td>\n",
       "      <td>63.3</td>\n",
       "    </tr>\n",
       "    <tr>\n",
       "      <th>2020-03-01</th>\n",
       "      <td>2020</td>\n",
       "      <td>3</td>\n",
       "      <td>258.1</td>\n",
       "      <td>4.4</td>\n",
       "      <td>0.6</td>\n",
       "      <td>3.4</td>\n",
       "      <td>62.6</td>\n",
       "    </tr>\n",
       "  </tbody>\n",
       "</table>\n",
       "</div>"
      ],
      "text/plain": [
       "            Year  Month    CPI  UNRATE  FEDFUNDS  REALRATE  LFPART\n",
       "DATE                                                              \n",
       "2020-01-01  2020      1  259.1     3.6       1.6      -0.6    63.3\n",
       "2020-02-01  2020      2  259.2     3.5       1.6      -0.5    63.3\n",
       "2020-03-01  2020      3  258.1     4.4       0.6       3.4    62.6"
      ]
     },
     "execution_count": 50,
     "metadata": {},
     "output_type": "execute_result"
    }
   ],
   "source": [
    "df3.loc['2020-01-01' : '2020-03-01']"
   ]
  },
  {
   "cell_type": "code",
   "execution_count": 51,
   "metadata": {},
   "outputs": [
    {
     "name": "stdout",
     "output_type": "stream",
     "text": [
      "The mean unenploment rate was 6.0 percent\n",
      "The max unenploment rate was 15.0 percent\n",
      "The min unenploment rate was 2.0 percent\n",
      "The mean LFPART rate was 63.0 percent\n",
      "The max LFPART rate was 67.0 percent\n",
      "The min LFPART rate was 58.0 percent\n"
     ]
    }
   ],
   "source": [
    "import pandas as pd\n",
    "import numpy as np\n",
    "\n",
    "un_mean = np.mean(df3['UNRATE'])\n",
    "un_max = np.max(df3['UNRATE'])\n",
    "un_min = np.min(df3['UNRATE'])\n",
    "\n",
    "print(f'The mean unenploment rate was {round(un_mean, 0)} percent')\n",
    "print(f'The max unenploment rate was {round(un_max, 0)} percent')\n",
    "print(f'The min unenploment rate was {round(un_min, 0)} percent')\n",
    "\n",
    "lf_mean = np.mean(df3['LFPART'])\n",
    "lf_max = np.max(df3['LFPART'])\n",
    "lf_min = np.min(df3['LFPART'])\n",
    "\n",
    "print(f'The mean LFPART rate was {round(lf_mean, 0)} percent')\n",
    "print(f'The max LFPART rate was {round(lf_max, 0)} percent')\n",
    "print(f'The min LFPART rate was {round(lf_min, 0)} percent')"
   ]
  },
  {
   "cell_type": "code",
   "execution_count": 56,
   "metadata": {},
   "outputs": [
    {
     "data": {
      "text/plain": [
       "DATE\n",
       "1948-01-01    1940\n",
       "1948-02-01    1940\n",
       "1948-03-01    1940\n",
       "1948-04-01    1940\n",
       "1948-05-01    1940\n",
       "              ... \n",
       "2024-08-01    2020\n",
       "2024-09-01    2020\n",
       "2024-10-01    2020\n",
       "2024-11-01    2020\n",
       "2024-12-01    2020\n",
       "Name: Decade, Length: 924, dtype: int64"
      ]
     },
     "execution_count": 56,
     "metadata": {},
     "output_type": "execute_result"
    }
   ],
   "source": [
    "df3['Decade'] = df3['Year'] // 10 * 10\n",
    "df3['Decade']"
   ]
  },
  {
   "cell_type": "markdown",
   "metadata": {},
   "source": [
    "***\n",
    "# Exercise 4: Working with string data (advanced)\n",
    "\n",
    "Most of the data we deal with contain strings, i.e., text data (names, addresses, etc.). Often, such data is not in the format needed for analysis, and we have to perform additional string manipulation to extract the exact data we need. This can be achieved using the pandas [string methods](https://pandas.pydata.org/docs/user_guide/text.html#string-methods).\n",
    "\n",
    "To illustrate, we use the Titanic data set for this exercise.\n",
    "\n",
    "1.  Load the Titanic data and restrict the sample to men. (This simplifies the task. Women in this data set have much more complicated names as they contain both their husband's and their maiden name)\n",
    "2.  Print the first five observations of the `Name` column. As you can see, the data is stored in the format _\"Last name, Title First name\"_ where title is something like Mr., Rev., etc.\n",
    "3. Split the `Name` column by `,` to extract the last name and the remainder as separate columns. You can achieve this using the [`partition()`](https://pandas.pydata.org/docs/reference/api/pandas.Series.str.partition.html#pandas.Series.str.partition) string method.\n",
    "4. Split the remainder (containing the title and first name) using the space character `\" \"` as separator to obtain individual columns for the title and the first name.\n",
    "5. Store the three data series in the original `DataFrame` (using the column names `FirstName`, `LastName` and `Title`) and delete the `Name` column which is no longer needed.\n",
    "6. Finally, extract the ship deck from the values in `Cabin`. The ship deck is the first character in the string stored in `Cabin` (A, B, C, ...). You extract the first character using the \n",
    "[`get()`](https://pandas.pydata.org/docs/reference/api/pandas.Series.str.get.html#pandas.Series.str.get) string method. Store the result in the column `Deck`.\n",
    "\n",
    "*Hint*: Pandas's string methods can be accessed using the `.str` attribute. For example, to partition values in the column `Name`, you need to use\n",
    "```python\n",
    "df['Name'].str.partition()\n",
    "```\n"
   ]
  },
  {
   "cell_type": "code",
   "execution_count": 56,
   "metadata": {},
   "outputs": [],
   "source": [
    "df4 = pd.read_csv(filename1)\n",
    "df4 = df4.query('Sex == \"male\"')"
   ]
  },
  {
   "cell_type": "code",
   "execution_count": 75,
   "metadata": {},
   "outputs": [],
   "source": [
    "df4['Name'].astype(str)\n",
    "\n",
    "split = df4['Name'].str.partition(', ')\n",
    "df4['LastName'] = split[0]\n",
    "Rest = split[2]\n",
    "\n",
    "second_split = Rest.str.partition(' ')\n",
    "df4['Title'] = second_split[0]\n",
    "df4['FirstName'] = second_split[2]\n",
    "\n",
    "df4.drop(columns='Name', inplace=True)"
   ]
  },
  {
   "cell_type": "code",
   "execution_count": 81,
   "metadata": {},
   "outputs": [
    {
     "data": {
      "text/plain": [
       "0     NaN\n",
       "4     NaN\n",
       "5     NaN\n",
       "6     NaN\n",
       "7     NaN\n",
       "       ..\n",
       "883   NaN\n",
       "884   NaN\n",
       "886   NaN\n",
       "889   NaN\n",
       "890   NaN\n",
       "Name: Cabin, Length: 577, dtype: float64"
      ]
     },
     "execution_count": 81,
     "metadata": {},
     "output_type": "execute_result"
    }
   ],
   "source": [
    "df4['Cabin'].astype(str)\n",
    "\n",
    "df4['Cabin'].str.get('B')"
   ]
  }
 ],
 "metadata": {
  "kernelspec": {
   "display_name": "TECH2",
   "language": "python",
   "name": "python3"
  },
  "language_info": {
   "codemirror_mode": {
    "name": "ipython",
    "version": 3
   },
   "file_extension": ".py",
   "mimetype": "text/x-python",
   "name": "python",
   "nbconvert_exporter": "python",
   "pygments_lexer": "ipython3",
   "version": "3.13.5"
  }
 },
 "nbformat": 4,
 "nbformat_minor": 2
}

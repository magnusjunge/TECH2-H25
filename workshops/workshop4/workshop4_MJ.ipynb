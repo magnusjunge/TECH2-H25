{
 "cells": [
  {
   "cell_type": "markdown",
   "metadata": {},
   "source": [
    "# Exercise 1: House price levels and dispersion\n",
    "\n",
    "For this exercise, we're using data on around 3,000 observations of house prices and house characteristics from Ames, a small city in Iowa.\n",
    "\n",
    "1.  Load the Ames housing data set from `ames_houses.csv` located in the `data/` folder.\n",
    "\n",
    "    To familiarize yourself with the data, report the columns present in the DataFrame and \n",
    "    then restrict the data to the columns `SalePrice` and `Neighborhood`.\n",
    "    \n",
    "    Check that there are no observations with missing values in the final data set.\n",
    "\n",
    "2.  Compute the average house price (column `SalePrice`) by neighborhood (column `Neighborhood`). List the three most expensive neighborhoods, for example by using [`sort_values()`](https://pandas.pydata.org/docs/reference/api/pandas.DataFrame.sort_values.html).\n",
    "\n",
    "    Create a bar chart showing the average sale price for all neighborhoods in descending order.\n",
    "\n",
    "    *Hint:* You can create the bar chart by either using pandas's \n",
    "    [`DataFrame.plot.bar()`](https://pandas.pydata.org/docs/reference/api/pandas.DataFrame.plot.bar.html)\n",
    "    or Matplotlib's\n",
    "    [`bar()`](https://matplotlib.org/stable/api/_as_gen/matplotlib.pyplot.bar.html).\n",
    "\n",
    "3.  You want to quantify the price dispersion in each neighborhood. To this end, compute the standard deviation by neighborhood using [`std()`](https://pandas.pydata.org/docs/reference/api/pandas.DataFrame.std.html). Which are the three neighborhoods with the most dispersed prices?\n",
    "\n",
    "    Create a scatter plot with the average house price on the $x$-axes and the standard deviation on the $y$-axis.\n",
    "    Is there a relationship between the average house prices and their dispersion within neighborhood?\n",
    "\n",
    "    *Hint:* You can create the scatter plot by either using pandas's \n",
    "    [`DataFrame.plot.scatter()`](https://pandas.pydata.org/docs/reference/api/pandas.DataFrame.plot.scatter.html)\n",
    "    or Matplotlib's \n",
    "    [`scatter()`](https://matplotlib.org/stable/api/_as_gen/matplotlib.pyplot.scatter.html)."
   ]
  },
  {
   "cell_type": "markdown",
   "metadata": {},
   "source": [
    "## Part 1"
   ]
  },
  {
   "cell_type": "code",
   "execution_count": 5,
   "metadata": {},
   "outputs": [],
   "source": [
    "import pandas as pd\n",
    "\n",
    "DATA_PATH = '../../data'\n",
    "filename = f'{DATA_PATH}/ames_houses.csv'\n",
    "\n",
    "df = pd.read_csv(filename)\n"
   ]
  },
  {
   "cell_type": "code",
   "execution_count": 6,
   "metadata": {},
   "outputs": [
    {
     "data": {
      "text/plain": [
       "Index(['LotArea', 'Neighborhood', 'OverallQuality', 'OverallCondition',\n",
       "       'YearBuilt', 'YearRemodeled', 'BuildingType', 'CentralAir',\n",
       "       'LivingArea', 'Bathrooms', 'Bedrooms', 'Fireplaces', 'SalePrice',\n",
       "       'YearSold', 'MonthSold', 'HasGarage'],\n",
       "      dtype='object')"
      ]
     },
     "execution_count": 6,
     "metadata": {},
     "output_type": "execute_result"
    }
   ],
   "source": [
    "df.columns"
   ]
  },
  {
   "cell_type": "code",
   "execution_count": 7,
   "metadata": {},
   "outputs": [
    {
     "data": {
      "text/plain": [
       "SalePrice       0\n",
       "Neighborhood    0\n",
       "dtype: int64"
      ]
     },
     "execution_count": 7,
     "metadata": {},
     "output_type": "execute_result"
    }
   ],
   "source": [
    "\n",
    "df = df[['SalePrice', 'Neighborhood']]\n",
    "df.isna().sum()"
   ]
  },
  {
   "cell_type": "markdown",
   "metadata": {},
   "source": [
    "## Part 2"
   ]
  },
  {
   "cell_type": "code",
   "execution_count": 59,
   "metadata": {},
   "outputs": [
    {
     "data": {
      "text/plain": [
       "Neighborhood\n",
       "NridgHt    322.019277\n",
       "StoneBr    324.227451\n",
       "NoRidge    330.321127\n",
       "Name: SalePrice, dtype: float64"
      ]
     },
     "execution_count": 59,
     "metadata": {},
     "output_type": "execute_result"
    }
   ],
   "source": [
    "\n",
    "avg_price = df.groupby('Neighborhood')['SalePrice'].mean().sort_values()\n",
    "avg_price.tail(3)\n",
    "\n"
   ]
  },
  {
   "cell_type": "markdown",
   "metadata": {},
   "source": [
    "## Part 3"
   ]
  },
  {
   "cell_type": "code",
   "execution_count": 8,
   "metadata": {},
   "outputs": [
    {
     "data": {
      "text/plain": [
       "Neighborhood\n",
       "NridgHt     95.934020\n",
       "NoRidge    101.444018\n",
       "StoneBr    119.270897\n",
       "Name: SalePrice, dtype: float64"
      ]
     },
     "execution_count": 8,
     "metadata": {},
     "output_type": "execute_result"
    }
   ],
   "source": [
    "\n",
    "deviation = df.groupby('Neighborhood')['SalePrice'].std().sort_values().dropna()\n",
    "deviation.tail(3)"
   ]
  },
  {
   "cell_type": "code",
   "execution_count": 9,
   "metadata": {},
   "outputs": [
    {
     "data": {
      "text/plain": [
       "<Axes: xlabel='std', ylabel='mean'>"
      ]
     },
     "execution_count": 9,
     "metadata": {},
     "output_type": "execute_result"
    },
    {
     "data": {
      "image/png": "[encoded data removed]",
      "text/plain": [
       "<Figure size 640x480 with 1 Axes>"
      ]
     },
     "metadata": {},
     "output_type": "display_data"
    }
   ],
   "source": [
    "df_std = df.groupby('Neighborhood')['SalePrice'].agg(['mean', 'std'])\n",
    "df_std.plot.scatter('std', 'mean')"
   ]
  },
  {
   "cell_type": "markdown",
   "metadata": {},
   "source": [
    "***\n",
    "# Exercise 2: Determinants of house prices\n",
    "\n",
    "For this exercise, we're using data on around 3,000 observations of house prices and house characteristics from Ames, a small city in Iowa,\n",
    "to understand how house prices vary with selected house characteristics.\n",
    "\n",
    "1.  Load the Ames housing data set from `ames_houses.csv` located in the `data/` folder, and keep only the\n",
    "    columns `SalePrice`, `LotArea`, `YearBuilt`, and `Bedrooms`.\n",
    "\n",
    "    Restrict your data set to houses with one or more bedrooms and a lot area of at least 100m².\n",
    "\n",
    "2.  Compute the average year in which a house was built (using the column `YearBuilt`). Create a new column `New` which takes on the value of 1 if the house was built after the average year of construction (_\"new\"_), and 0 otherwise (_\"old\"_). \n",
    "\n",
    "    What is the average year of construction within these two categories?\n",
    "\n",
    "3.  Create a new column `Rooms` which categorizes the number of `Bedrooms` into three groups: 1, 2, and 3 or more. You can create these categories using boolean indexing, [`np.where()`](https://numpy.org/doc/2.0/reference/generated/numpy.where.html), pandas's [`where()`](https://pandas.pydata.org/docs/reference/api/pandas.DataFrame.where.html), or some other way.\n",
    "\n",
    "4.  Compute the mean `SalePrice` within each group formed by `New` and `Rooms` (for a total of 6 different categories) using [`groupby()`](https://pandas.pydata.org/docs/reference/api/pandas.DataFrame.groupby.html).\n",
    "\n",
    "    What is the average price difference between an old house with 1 bedroom and a new house with 3+ bedrooms?\n",
    "\n",
    "5.  Create a figure with two subplots arranged in two columns. The left column should contain a bar chart showing\n",
    "    the average house price by number of bed rooms (1, 2, 3+) for _old_ houses, whereas the \n",
    "    right column should show the corresponding bars for _new_ houses."
   ]
  },
  {
   "cell_type": "markdown",
   "metadata": {},
   "source": [
    "### Part 1"
   ]
  },
  {
   "cell_type": "code",
   "execution_count": 55,
   "metadata": {},
   "outputs": [],
   "source": [
    "df_2 = pd.read_csv(filename)\n",
    "df_2 = df_2[['SalePrice', 'LotArea', 'YearBuilt', 'Bedrooms']].query('LotArea > 100 & Bedrooms >= 1')"
   ]
  },
  {
   "cell_type": "markdown",
   "metadata": {},
   "source": [
    "### Part 2"
   ]
  },
  {
   "cell_type": "code",
   "execution_count": 56,
   "metadata": {},
   "outputs": [],
   "source": [
    "avg_build_year = df_2['YearBuilt'].mean()\n",
    "df_2['New'] = (df_2['YearBuilt'] > avg_build_year).astype(int)"
   ]
  },
  {
   "cell_type": "code",
   "execution_count": 57,
   "metadata": {},
   "outputs": [
    {
     "data": {
      "text/plain": [
       "New\n",
       "0    1945.149148\n",
       "1    1995.678336\n",
       "Name: YearBuilt, dtype: float64"
      ]
     },
     "execution_count": 57,
     "metadata": {},
     "output_type": "execute_result"
    }
   ],
   "source": [
    "df_2.groupby('New')['YearBuilt'].mean()"
   ]
  },
  {
   "cell_type": "markdown",
   "metadata": {},
   "source": [
    "### Part 3"
   ]
  },
  {
   "cell_type": "code",
   "execution_count": 58,
   "metadata": {},
   "outputs": [
    {
     "data": {
      "text/html": [
       "<div>\n",
       "<style scoped>\n",
       "    .dataframe tbody tr th:only-of-type {\n",
       "        vertical-align: middle;\n",
       "    }\n",
       "\n",
       "    .dataframe tbody tr th {\n",
       "        vertical-align: top;\n",
       "    }\n",
       "\n",
       "    .dataframe thead th {\n",
       "        text-align: right;\n",
       "    }\n",
       "</style>\n",
       "<table border=\"1\" class=\"dataframe\">\n",
       "  <thead>\n",
       "    <tr style=\"text-align: right;\">\n",
       "      <th></th>\n",
       "      <th>SalePrice</th>\n",
       "      <th>LotArea</th>\n",
       "      <th>YearBuilt</th>\n",
       "      <th>Bedrooms</th>\n",
       "      <th>New</th>\n",
       "      <th>Rooms</th>\n",
       "    </tr>\n",
       "  </thead>\n",
       "  <tbody>\n",
       "    <tr>\n",
       "      <th>0</th>\n",
       "      <td>215.0</td>\n",
       "      <td>2951.2</td>\n",
       "      <td>1960</td>\n",
       "      <td>3</td>\n",
       "      <td>0</td>\n",
       "      <td>3+</td>\n",
       "    </tr>\n",
       "    <tr>\n",
       "      <th>1</th>\n",
       "      <td>105.0</td>\n",
       "      <td>1079.6</td>\n",
       "      <td>1961</td>\n",
       "      <td>2</td>\n",
       "      <td>0</td>\n",
       "      <td>2</td>\n",
       "    </tr>\n",
       "    <tr>\n",
       "      <th>2</th>\n",
       "      <td>172.0</td>\n",
       "      <td>1325.3</td>\n",
       "      <td>1958</td>\n",
       "      <td>3</td>\n",
       "      <td>0</td>\n",
       "      <td>3+</td>\n",
       "    </tr>\n",
       "    <tr>\n",
       "      <th>3</th>\n",
       "      <td>244.0</td>\n",
       "      <td>1036.7</td>\n",
       "      <td>1968</td>\n",
       "      <td>3</td>\n",
       "      <td>0</td>\n",
       "      <td>3+</td>\n",
       "    </tr>\n",
       "    <tr>\n",
       "      <th>4</th>\n",
       "      <td>189.9</td>\n",
       "      <td>1284.7</td>\n",
       "      <td>1997</td>\n",
       "      <td>3</td>\n",
       "      <td>1</td>\n",
       "      <td>3+</td>\n",
       "    </tr>\n",
       "    <tr>\n",
       "      <th>...</th>\n",
       "      <td>...</td>\n",
       "      <td>...</td>\n",
       "      <td>...</td>\n",
       "      <td>...</td>\n",
       "      <td>...</td>\n",
       "      <td>...</td>\n",
       "    </tr>\n",
       "    <tr>\n",
       "      <th>2925</th>\n",
       "      <td>142.5</td>\n",
       "      <td>737.3</td>\n",
       "      <td>1984</td>\n",
       "      <td>3</td>\n",
       "      <td>1</td>\n",
       "      <td>3+</td>\n",
       "    </tr>\n",
       "    <tr>\n",
       "      <th>2926</th>\n",
       "      <td>131.0</td>\n",
       "      <td>825.4</td>\n",
       "      <td>1983</td>\n",
       "      <td>2</td>\n",
       "      <td>1</td>\n",
       "      <td>2</td>\n",
       "    </tr>\n",
       "    <tr>\n",
       "      <th>2927</th>\n",
       "      <td>132.0</td>\n",
       "      <td>969.9</td>\n",
       "      <td>1992</td>\n",
       "      <td>3</td>\n",
       "      <td>1</td>\n",
       "      <td>3+</td>\n",
       "    </tr>\n",
       "    <tr>\n",
       "      <th>2928</th>\n",
       "      <td>170.0</td>\n",
       "      <td>929.9</td>\n",
       "      <td>1974</td>\n",
       "      <td>2</td>\n",
       "      <td>1</td>\n",
       "      <td>2</td>\n",
       "    </tr>\n",
       "    <tr>\n",
       "      <th>2929</th>\n",
       "      <td>188.0</td>\n",
       "      <td>894.3</td>\n",
       "      <td>1993</td>\n",
       "      <td>3</td>\n",
       "      <td>1</td>\n",
       "      <td>3+</td>\n",
       "    </tr>\n",
       "  </tbody>\n",
       "</table>\n",
       "<p>2922 rows × 6 columns</p>\n",
       "</div>"
      ],
      "text/plain": [
       "      SalePrice  LotArea  YearBuilt  Bedrooms  New Rooms\n",
       "0         215.0   2951.2       1960         3    0    3+\n",
       "1         105.0   1079.6       1961         2    0     2\n",
       "2         172.0   1325.3       1958         3    0    3+\n",
       "3         244.0   1036.7       1968         3    0    3+\n",
       "4         189.9   1284.7       1997         3    1    3+\n",
       "...         ...      ...        ...       ...  ...   ...\n",
       "2925      142.5    737.3       1984         3    1    3+\n",
       "2926      131.0    825.4       1983         2    1     2\n",
       "2927      132.0    969.9       1992         3    1    3+\n",
       "2928      170.0    929.9       1974         2    1     2\n",
       "2929      188.0    894.3       1993         3    1    3+\n",
       "\n",
       "[2922 rows x 6 columns]"
      ]
     },
     "execution_count": 58,
     "metadata": {},
     "output_type": "execute_result"
    }
   ],
   "source": [
    "df_2['Rooms'] = '3+'\n",
    "df_2.loc[df_2['Bedrooms'] == 1, 'Rooms'] = '1'\n",
    "df_2.loc[df_2['Bedrooms'] == 2, 'Rooms'] = '2'\n",
    "\n",
    "df_2"
   ]
  },
  {
   "cell_type": "markdown",
   "metadata": {},
   "source": [
    "### Part 4"
   ]
  },
  {
   "cell_type": "code",
   "execution_count": 59,
   "metadata": {},
   "outputs": [
    {
     "data": {
      "text/plain": [
       "Rooms  New\n",
       "1      0      101.417949\n",
       "       1      226.610959\n",
       "2      0      117.512113\n",
       "       1      210.975211\n",
       "3+     0      146.528135\n",
       "       1      223.989411\n",
       "Name: SalePrice, dtype: float64"
      ]
     },
     "execution_count": 59,
     "metadata": {},
     "output_type": "execute_result"
    }
   ],
   "source": [
    "df_2.groupby(['Rooms', 'New'])['SalePrice'].mean()\n",
    "\n"
   ]
  },
  {
   "cell_type": "code",
   "execution_count": 67,
   "metadata": {},
   "outputs": [
    {
     "data": {
      "text/plain": [
       "np.float64(122.5714619634509)"
      ]
     },
     "execution_count": 67,
     "metadata": {},
     "output_type": "execute_result"
    }
   ],
   "source": [
    "avg = pd.DataFrame(df_2.groupby(['Rooms', 'New'])['SalePrice'].mean()).reset_index()\n",
    "\n",
    "df_expensive = avg.query('Rooms ==  \"3+\" & New == 1')\n",
    "df_cheap = avg.query('Rooms ==  \"1\" & New == 0')\n",
    "\n",
    "difference = df_expensive['SalePrice'].values[0] - df_cheap['SalePrice'].values[0]\n",
    "difference\n"
   ]
  },
  {
   "cell_type": "markdown",
   "metadata": {},
   "source": [
    "### Part 5"
   ]
  },
  {
   "cell_type": "code",
   "execution_count": 90,
   "metadata": {},
   "outputs": [],
   "source": [
    "df_new = avg.query('New == 1')\n",
    "df_old = avg.query('New == 0')"
   ]
  },
  {
   "cell_type": "code",
   "execution_count": 102,
   "metadata": {},
   "outputs": [
    {
     "data": {
      "text/plain": [
       "Text(0.5, 0.98, 'Avrage Sales price based on rooms')"
      ]
     },
     "execution_count": 102,
     "metadata": {},
     "output_type": "execute_result"
    },
    {
     "data": {
      "image/png": "[encoded data removed]",
      "text/plain": [
       "<Figure size 1000x500 with 2 Axes>"
      ]
     },
     "metadata": {},
     "output_type": "display_data"
    }
   ],
   "source": [
    "import matplotlib.pyplot as plt\n",
    "\n",
    "fig, axes = plt.subplots(1, 2, figsize = (10,5))\n",
    "\n",
    "axes[0].bar(df_new['Rooms'], df_new['SalePrice'])\n",
    "axes[1].bar(df_old['Rooms'], df_old['SalePrice'])\n",
    "\n",
    "axes[0].set_xlabel('Rooms')\n",
    "axes[1].set_xlabel('Rooms')\n",
    "\n",
    "axes[0].set_ylabel('Avrage Sale Price')\n",
    "axes[1].set_ylabel('Avrage Sale Price')\n",
    "\n",
    "axes[0].set_title('New Houses')\n",
    "axes[1].set_title('Old Houses')\n",
    "\n",
    "fig.suptitle('Avrage Sales price based on rooms')\n",
    "\n"
   ]
  },
  {
   "cell_type": "markdown",
   "metadata": {},
   "source": [
    "***\n",
    "# Exercise 3: Inflation and unemployment in the US\n",
    "\n",
    "In this exercise, you'll be working with selected macroeconomic variables for the United States reported at monthly frequency obtained from [FRED](https://fred.stlouisfed.org/).\n",
    "The data set starts in 1948 and contains observations for a total of 864 months.\n",
    "\n",
    "1.  Load the data from the file `FRED_monthly.csv` located in the `data/FRED` folder. Print the first 10 observations to get an idea how the data looks like.\n",
    "    \n",
    "    Keep only the columns `Year`, `Month`, `CPI`, and `UNRATE`. Moreover, perform this analysis only on observations prior to 1970 and drop the rest.\n",
    "\n",
    "2.  The column `CPI` stores the consumer price index for the US. You may be more familiar with the concept of inflation, which is the percent change of the CPI relative to the previous period. \n",
    "    Create a new column `Inflation` which contains the _annual_ inflation _in percent_ relative to the same month in the previous year by applying \n",
    "    [`pct_change()`](https://pandas.pydata.org/docs/reference/api/pandas.DataFrame.pct_change.html) to the column `CPI`.\n",
    "\n",
    "    *Hints:* \n",
    "    \n",
    "    -   Since this is monthly data, you need to pass the arguments `periods=12` to `pct_change()` to get annual percent changes.\n",
    "    -   You need to multiply the values returned by `pct_change()` by 100 to get percent values.\n",
    "\n",
    "3.  Compute the average unemployment rate (column `UNRATE`) over the whole sample period. Create a new column `UNRATE_HIGH` that contains an indicator whenever the unemployment rate is above its average value (_\"high unemployment period\"_). \n",
    "    -   How many observations fall into the high- and the low-unemployment periods?\n",
    "    -   What is the average unemployment rate in the high- and low-unemployment periods?\n",
    "\n",
    "4.  Compute the average inflation rate for high- and low-unemployment periods. Is there any difference?\n",
    "\n",
    "5.  Use [`resample()`](https://pandas.pydata.org/docs/reference/api/pandas.DataFrame.resample.html) to aggregate\n",
    "    the inflation data to annual frequency and compute the average inflation within each calendar year.\n",
    "\n",
    "    -   Report the three years with the highest inflation rates.\n",
    "    -   Create a plot that shows the average annual inflation over the sample period.\n",
    "\n",
    "    *Hint:* Use the resampling rule `'YE'` when calling `resample()`.\n"
   ]
  },
  {
   "cell_type": "markdown",
   "metadata": {},
   "source": [
    "### Part 1"
   ]
  },
  {
   "cell_type": "code",
   "execution_count": 107,
   "metadata": {},
   "outputs": [
    {
     "data": {
      "text/html": [
       "<div>\n",
       "<style scoped>\n",
       "    .dataframe tbody tr th:only-of-type {\n",
       "        vertical-align: middle;\n",
       "    }\n",
       "\n",
       "    .dataframe tbody tr th {\n",
       "        vertical-align: top;\n",
       "    }\n",
       "\n",
       "    .dataframe thead th {\n",
       "        text-align: right;\n",
       "    }\n",
       "</style>\n",
       "<table border=\"1\" class=\"dataframe\">\n",
       "  <thead>\n",
       "    <tr style=\"text-align: right;\">\n",
       "      <th></th>\n",
       "      <th>DATE</th>\n",
       "      <th>Year</th>\n",
       "      <th>Month</th>\n",
       "      <th>CPI</th>\n",
       "      <th>UNRATE</th>\n",
       "      <th>FEDFUNDS</th>\n",
       "      <th>REALRATE</th>\n",
       "      <th>LFPART</th>\n",
       "    </tr>\n",
       "  </thead>\n",
       "  <tbody>\n",
       "    <tr>\n",
       "      <th>0</th>\n",
       "      <td>1948-01-01</td>\n",
       "      <td>1948</td>\n",
       "      <td>1</td>\n",
       "      <td>23.7</td>\n",
       "      <td>3.4</td>\n",
       "      <td>NaN</td>\n",
       "      <td>NaN</td>\n",
       "      <td>58.6</td>\n",
       "    </tr>\n",
       "    <tr>\n",
       "      <th>1</th>\n",
       "      <td>1948-02-01</td>\n",
       "      <td>1948</td>\n",
       "      <td>2</td>\n",
       "      <td>23.7</td>\n",
       "      <td>3.8</td>\n",
       "      <td>NaN</td>\n",
       "      <td>NaN</td>\n",
       "      <td>58.9</td>\n",
       "    </tr>\n",
       "    <tr>\n",
       "      <th>2</th>\n",
       "      <td>1948-03-01</td>\n",
       "      <td>1948</td>\n",
       "      <td>3</td>\n",
       "      <td>23.5</td>\n",
       "      <td>4.0</td>\n",
       "      <td>NaN</td>\n",
       "      <td>NaN</td>\n",
       "      <td>58.5</td>\n",
       "    </tr>\n",
       "    <tr>\n",
       "      <th>3</th>\n",
       "      <td>1948-04-01</td>\n",
       "      <td>1948</td>\n",
       "      <td>4</td>\n",
       "      <td>23.8</td>\n",
       "      <td>3.9</td>\n",
       "      <td>NaN</td>\n",
       "      <td>NaN</td>\n",
       "      <td>59.0</td>\n",
       "    </tr>\n",
       "    <tr>\n",
       "      <th>4</th>\n",
       "      <td>1948-05-01</td>\n",
       "      <td>1948</td>\n",
       "      <td>5</td>\n",
       "      <td>24.0</td>\n",
       "      <td>3.5</td>\n",
       "      <td>NaN</td>\n",
       "      <td>NaN</td>\n",
       "      <td>58.3</td>\n",
       "    </tr>\n",
       "    <tr>\n",
       "      <th>5</th>\n",
       "      <td>1948-06-01</td>\n",
       "      <td>1948</td>\n",
       "      <td>6</td>\n",
       "      <td>24.2</td>\n",
       "      <td>3.6</td>\n",
       "      <td>NaN</td>\n",
       "      <td>NaN</td>\n",
       "      <td>59.2</td>\n",
       "    </tr>\n",
       "    <tr>\n",
       "      <th>6</th>\n",
       "      <td>1948-07-01</td>\n",
       "      <td>1948</td>\n",
       "      <td>7</td>\n",
       "      <td>24.4</td>\n",
       "      <td>3.6</td>\n",
       "      <td>NaN</td>\n",
       "      <td>NaN</td>\n",
       "      <td>59.3</td>\n",
       "    </tr>\n",
       "    <tr>\n",
       "      <th>7</th>\n",
       "      <td>1948-08-01</td>\n",
       "      <td>1948</td>\n",
       "      <td>8</td>\n",
       "      <td>24.4</td>\n",
       "      <td>3.9</td>\n",
       "      <td>NaN</td>\n",
       "      <td>NaN</td>\n",
       "      <td>58.9</td>\n",
       "    </tr>\n",
       "    <tr>\n",
       "      <th>8</th>\n",
       "      <td>1948-09-01</td>\n",
       "      <td>1948</td>\n",
       "      <td>9</td>\n",
       "      <td>24.4</td>\n",
       "      <td>3.8</td>\n",
       "      <td>NaN</td>\n",
       "      <td>NaN</td>\n",
       "      <td>58.9</td>\n",
       "    </tr>\n",
       "    <tr>\n",
       "      <th>9</th>\n",
       "      <td>1948-10-01</td>\n",
       "      <td>1948</td>\n",
       "      <td>10</td>\n",
       "      <td>24.3</td>\n",
       "      <td>3.7</td>\n",
       "      <td>NaN</td>\n",
       "      <td>NaN</td>\n",
       "      <td>58.7</td>\n",
       "    </tr>\n",
       "  </tbody>\n",
       "</table>\n",
       "</div>"
      ],
      "text/plain": [
       "         DATE  Year  Month   CPI  UNRATE  FEDFUNDS  REALRATE  LFPART\n",
       "0  1948-01-01  1948      1  23.7     3.4       NaN       NaN    58.6\n",
       "1  1948-02-01  1948      2  23.7     3.8       NaN       NaN    58.9\n",
       "2  1948-03-01  1948      3  23.5     4.0       NaN       NaN    58.5\n",
       "3  1948-04-01  1948      4  23.8     3.9       NaN       NaN    59.0\n",
       "4  1948-05-01  1948      5  24.0     3.5       NaN       NaN    58.3\n",
       "5  1948-06-01  1948      6  24.2     3.6       NaN       NaN    59.2\n",
       "6  1948-07-01  1948      7  24.4     3.6       NaN       NaN    59.3\n",
       "7  1948-08-01  1948      8  24.4     3.9       NaN       NaN    58.9\n",
       "8  1948-09-01  1948      9  24.4     3.8       NaN       NaN    58.9\n",
       "9  1948-10-01  1948     10  24.3     3.7       NaN       NaN    58.7"
      ]
     },
     "execution_count": 107,
     "metadata": {},
     "output_type": "execute_result"
    }
   ],
   "source": [
    "import pandas as pd\n",
    "\n",
    "DATA_PATH3 = '../../data/FRED'\n",
    "filename3 = f'{DATA_PATH3}/FRED_monthly.csv'\n",
    "df3 = pd.read_csv(filename3)\n",
    "\n",
    "df3.iloc[:10]"
   ]
  },
  {
   "cell_type": "code",
   "execution_count": 112,
   "metadata": {},
   "outputs": [],
   "source": [
    "df3 = df3[['Year', 'Month', 'CPI', 'UNRATE']].query('Year <= 1970')"
   ]
  },
  {
   "cell_type": "markdown",
   "metadata": {},
   "source": [
    "### Part 2"
   ]
  },
  {
   "cell_type": "code",
   "execution_count": 119,
   "metadata": {},
   "outputs": [],
   "source": [
    "df3['Inflation'] = df3['CPI'].pct_change(periods = 12) * 100"
   ]
  },
  {
   "cell_type": "markdown",
   "metadata": {},
   "source": [
    "### Part 3"
   ]
  },
  {
   "cell_type": "code",
   "execution_count": 124,
   "metadata": {},
   "outputs": [],
   "source": [
    "avg_UNRATE = df3['UNRATE'].mean()\n",
    "\n",
    "df3['UNRATE_HIGH'] = (df3['UNRATE'] > avg_UNRATE).astype(int)"
   ]
  },
  {
   "cell_type": "code",
   "execution_count": 133,
   "metadata": {},
   "outputs": [
    {
     "data": {
      "text/plain": [
       "Year            0\n",
       "Month           0\n",
       "CPI             0\n",
       "UNRATE          0\n",
       "Inflation      12\n",
       "UNRATE_HIGH     0\n",
       "dtype: int64"
      ]
     },
     "execution_count": 133,
     "metadata": {},
     "output_type": "execute_result"
    }
   ],
   "source": [
    "df3.isna().sum()"
   ]
  },
  {
   "cell_type": "code",
   "execution_count": 134,
   "metadata": {},
   "outputs": [
    {
     "name": "stdout",
     "output_type": "stream",
     "text": [
      "UNRATE higher than average:  131\n",
      "UNRATE lower than average:  145\n"
     ]
    }
   ],
   "source": [
    "high_unrate = df3.query('UNRATE_HIGH == 1')\n",
    "low_unrate = df3.query('UNRATE_HIGH == 0')\n",
    "\n",
    "print('UNRATE higher than average: ',len(high_unrate))\n",
    "print('UNRATE lower than average: ',len(low_unrate))"
   ]
  },
  {
   "cell_type": "code",
   "execution_count": 135,
   "metadata": {},
   "outputs": [
    {
     "data": {
      "text/plain": [
       "UNRATE_HIGH\n",
       "0    3.713793\n",
       "1    5.754198\n",
       "Name: UNRATE, dtype: float64"
      ]
     },
     "execution_count": 135,
     "metadata": {},
     "output_type": "execute_result"
    }
   ],
   "source": [
    "df3.groupby('UNRATE_HIGH')['UNRATE'].mean()"
   ]
  },
  {
   "cell_type": "markdown",
   "metadata": {},
   "source": []
  },
  {
   "cell_type": "markdown",
   "metadata": {},
   "source": [
    "### Part 4"
   ]
  },
  {
   "cell_type": "code",
   "execution_count": 136,
   "metadata": {},
   "outputs": [
    {
     "data": {
      "text/plain": [
       "UNRATE_HIGH\n",
       "0    3.202937\n",
       "1    1.235008\n",
       "Name: Inflation, dtype: float64"
      ]
     },
     "execution_count": 136,
     "metadata": {},
     "output_type": "execute_result"
    }
   ],
   "source": [
    "df3.groupby('UNRATE_HIGH')['Inflation'].mean()"
   ]
  },
  {
   "cell_type": "markdown",
   "metadata": {},
   "source": [
    "### Part 5"
   ]
  },
  {
   "cell_type": "code",
   "execution_count": null,
   "metadata": {},
   "outputs": [
    {
     "data": {
      "text/plain": [
       "Year\n",
       "1969    5.432647\n",
       "1970    5.887916\n",
       "1951    7.987456\n",
       "Name: Inflation, dtype: float64"
      ]
     },
     "execution_count": 155,
     "metadata": {},
     "output_type": "execute_result"
    }
   ],
   "source": [
    "year_inf = df3.groupby('Year')['Inflation'].mean()\n",
    "year_inf_clean = year_inf.sort_values().dropna()\n",
    "year_inf_clean.tail(3)"
   ]
  },
  {
   "cell_type": "code",
   "execution_count": 164,
   "metadata": {},
   "outputs": [
    {
     "data": {
      "text/plain": [
       "<Axes: title={'center': 'Inflation (1945 - 1970)'}, xlabel='Year', ylabel='Inflation in percent'>"
      ]
     },
     "execution_count": 164,
     "metadata": {},
     "output_type": "execute_result"
    },
    {
     "data": {
      "image/png": "[encoded data removed]",
      "text/plain": [
       "<Figure size 640x480 with 1 Axes>"
      ]
     },
     "metadata": {},
     "output_type": "display_data"
    }
   ],
   "source": [
    "year_inf.plot(ylabel = 'Inflation in percent', legend='Inflation', title = 'Inflation (1945 - 1970)', grid=1)"
   ]
  }
 ],
 "metadata": {
  "kernelspec": {
   "display_name": "TECH2",
   "language": "python",
   "name": "python3"
  },
  "language_info": {
   "codemirror_mode": {
    "name": "ipython",
    "version": 3
   },
   "file_extension": ".py",
   "mimetype": "text/x-python",
   "name": "python",
   "nbconvert_exporter": "python",
   "pygments_lexer": "ipython3",
   "version": "3.13.5"
  }
 },
 "nbformat": 4,
 "nbformat_minor": 2
}

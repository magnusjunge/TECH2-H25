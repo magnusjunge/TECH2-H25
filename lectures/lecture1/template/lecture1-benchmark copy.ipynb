{
 "cells": [
  {
   "cell_type": "markdown",
   "id": "72ff393e",
   "metadata": {},
   "source": [
    "# Benchmarking against NumPy's `argmax()`\n",
    "\n",
    "We want to compare our implementation of `argmax()` against NumPy's own\n",
    "implementation, [`np.argmax()`](https://numpy.org/doc/stable/reference/generated/numpy.argmax.html).\n",
    "\n",
    "1.  Import the `lecture1` module and NumPy.\n",
    "2.  Use the function `get_test_values()` defined below to get a sample of\n",
    "    10 randomly drawn numbers.\n",
    "3.  Use the [`%timeit`](https://ipython.readthedocs.io/en/stable/interactive/magics.html#magic-timeit)\n",
    "    cell magic to measure the execution time of \n",
    "    your `argmax()` implementation against NumPy's. This can be achieved\n",
    "    as follows:\n",
    "\n",
    "    ```python\n",
    "    %timeit np.argmax(values)\n",
    "    ```\n",
    "    \n",
    "    Which one is faster?\n",
    "4.  Repeat the exercise for a sample of 1,000 random numbers.\n"
   ]
  },
  {
   "cell_type": "code",
   "execution_count": 1,
   "id": "0de0cddd",
   "metadata": {},
   "outputs": [],
   "source": [
    "def get_test_values(n):\n",
    "    \"\"\"\n",
    "    Return an array of n randomly generated values.\n",
    "\n",
    "    Parameters\n",
    "    ----------\n",
    "    n : int\n",
    "        The number of random values to generate.\n",
    "\n",
    "    Returns\n",
    "    -------\n",
    "    np.ndarray\n",
    "        An array of n random values uniformly distributed in the range [0, 1].\n",
    "    \"\"\"\n",
    "    import numpy as np\n",
    "    \n",
    "    # Create an instance of a random number generator\n",
    "    rng = np.random.default_rng(seed=1234)\n",
    "\n",
    "    # Generate n random values uniformly distributed in the range [0, 1]\n",
    "    values = rng.random(n)\n",
    "\n",
    "    return values"
   ]
  },
  {
   "cell_type": "code",
   "execution_count": 2,
   "id": "e3bea171",
   "metadata": {},
   "outputs": [],
   "source": [
    "# Import module with our implementation of argmax()\n",
    "import lecture1\n",
    "\n",
    "# Import NumPy\n",
    "import numpy as np"
   ]
  },
  {
   "cell_type": "markdown",
   "id": "ad3eaaf6",
   "metadata": {},
   "source": [
    "## Benchmarking for 10 values"
   ]
  },
  {
   "cell_type": "code",
   "execution_count": 3,
   "id": "1655dbb7",
   "metadata": {},
   "outputs": [],
   "source": [
    "# Draw 10 random numbers on the interval [0, 1]\n",
    "values = get_test_values(10)"
   ]
  },
  {
   "cell_type": "code",
   "execution_count": 4,
   "id": "56119259",
   "metadata": {},
   "outputs": [
    {
     "name": "stdout",
     "output_type": "stream",
     "text": [
      "629 ns ± 4.65 ns per loop (mean ± std. dev. of 7 runs, 1,000,000 loops each)\n"
     ]
    }
   ],
   "source": [
    "# Benchmark NumPy's argmax()\n",
    "%timeit np.argmax(values)"
   ]
  },
  {
   "cell_type": "code",
   "execution_count": 5,
   "id": "27af0ec4",
   "metadata": {},
   "outputs": [
    {
     "name": "stdout",
     "output_type": "stream",
     "text": [
      "592 ns ± 7.47 ns per loop (mean ± std. dev. of 7 runs, 1,000,000 loops each)\n"
     ]
    }
   ],
   "source": [
    "# Benchmark our argmax()\n",
    "%timeit lecture1.argmax(values)"
   ]
  },
  {
   "cell_type": "markdown",
   "id": "19f93842",
   "metadata": {},
   "source": [
    "## Benchmarking for 1,000 values"
   ]
  },
  {
   "cell_type": "code",
   "execution_count": 6,
   "id": "364acfa8",
   "metadata": {},
   "outputs": [],
   "source": [
    "# Draw 1000 random numbers on the interval [0, 1]\n",
    "values = get_test_values(1000)"
   ]
  },
  {
   "cell_type": "code",
   "execution_count": 7,
   "id": "b9029ba3",
   "metadata": {},
   "outputs": [
    {
     "name": "stdout",
     "output_type": "stream",
     "text": [
      "727 ns ± 0.893 ns per loop (mean ± std. dev. of 7 runs, 1,000,000 loops each)\n"
     ]
    }
   ],
   "source": [
    "# Benchmark NumPy's argmax()\n",
    "%timeit np.argmax(values)"
   ]
  },
  {
   "cell_type": "code",
   "execution_count": 8,
   "id": "4848f94a",
   "metadata": {},
   "outputs": [
    {
     "name": "stdout",
     "output_type": "stream",
     "text": [
      "58 μs ± 320 ns per loop (mean ± std. dev. of 7 runs, 10,000 loops each)\n"
     ]
    }
   ],
   "source": [
    "# Benchmark our argmax()\n",
    "%timeit lecture1.argmax(values)"
   ]
  }
 ],
 "metadata": {
  "kernelspec": {
   "display_name": "Python 3",
   "language": "python",
   "name": "python3"
  },
  "language_info": {
   "codemirror_mode": {
    "name": "ipython",
    "version": 3
   },
   "file_extension": ".py",
   "mimetype": "text/x-python",
   "name": "python",
   "nbconvert_exporter": "python",
   "pygments_lexer": "ipython3",
   "version": "3.13.5"
  }
 },
 "nbformat": 4,
 "nbformat_minor": 5
}
